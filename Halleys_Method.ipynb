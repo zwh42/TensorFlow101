{
 "cells": [
  {
   "cell_type": "markdown",
   "metadata": {},
   "source": [
    "##  Halley's Method\n",
    "\n",
    "Use TensorFlow to find the roots of a fourth-degree polynomial using [Halley's Method](https://en.wikipedia.org/wiki/Halley%27s_method).  The five coefficients (i.e. $a_0$ to $a_4$) of \n",
    "<p>\n",
    "$f(x) = a_0 + a_1 x + a_2 x^2 + a_3 x^3 + a_4 x^4$\n",
    "<p>\n",
    "will be fed into the program, as will the initial guess $x_0$. Your program will start from that initial guess and then iterate one step using the formula:\n",
    "<img src=\"https://wikimedia.org/api/rest_v1/media/math/render/svg/142614c0378a1d61cb623c1352bf85b6b7bc4397\" />\n",
    "<p>\n",
    "If you got the above easily, try iterating indefinitely until the change between $x_n$ and $x_{n+1}$ is less than some specified tolerance. Hint: Use [tf.while_loop](https://www.tensorflow.org/api_docs/python/tf/while_loop)"
   ]
  },
  {
   "cell_type": "code",
   "execution_count": 1,
   "metadata": {},
   "outputs": [
    {
     "name": "stderr",
     "output_type": "stream",
     "text": [
      "/Users/zhaowenhao/anaconda3/lib/python3.6/importlib/_bootstrap.py:219: RuntimeWarning: numpy.dtype size changed, may indicate binary incompatibility. Expected 96, got 88\n",
      "  return f(*args, **kwds)\n",
      "/Users/zhaowenhao/anaconda3/lib/python3.6/importlib/_bootstrap.py:219: RuntimeWarning: numpy.dtype size changed, may indicate binary incompatibility. Expected 96, got 88\n",
      "  return f(*args, **kwds)\n"
     ]
    }
   ],
   "source": [
    "import tensorflow as tf"
   ]
  },
  {
   "cell_type": "code",
   "execution_count": 7,
   "metadata": {},
   "outputs": [
    {
     "name": "stdout",
     "output_type": "stream",
     "text": [
      "10.0\n",
      "[3.509934, 10.319636]\n",
      "[1.6504753, 0.72406864]\n",
      "[1.41551, 0.003668785]\n",
      "[1.4142135, -1.1920929e-07]\n",
      "[1.4142135, -1.1920929e-07]\n",
      "[1.4142135, -1.1920929e-07]\n",
      "[1.4142135, -1.1920929e-07]\n",
      "[1.4142135, -1.1920929e-07]\n",
      "[1.4142135, -1.1920929e-07]\n",
      "[1.4142135, -1.1920929e-07]\n",
      "[1.4142135, -1.1920929e-07]\n",
      "[1.4142135, -1.1920929e-07]\n",
      "[1.4142135, -1.1920929e-07]\n",
      "[1.4142135, -1.1920929e-07]\n",
      "[1.4142135, -1.1920929e-07]\n",
      "[1.4142135, -1.1920929e-07]\n",
      "[1.4142135, -1.1920929e-07]\n",
      "[1.4142135, -1.1920929e-07]\n",
      "[1.4142135, -1.1920929e-07]\n",
      "[1.4142135, -1.1920929e-07]\n"
     ]
    }
   ],
   "source": [
    "def iter_x(x, a):\n",
    "    f_x = a[0] + a[1] * x + a[2] * tf.pow(x, 2) + a[3] * tf.pow(x, 3) + a[4] * tf.pow(x, 4)\n",
    "    df_x = a[1] + 2*a[2]*x + 3*a[3]*tf.pow(x,2) + 4*a[4]*tf.pow(x, 3)\n",
    "    ddf_x =  2*a[2] + 6*a[3]*x +  12*a[4]*tf.pow(x, 2)\n",
    "    delta = (2*f_x*df_x)/(2 * tf.pow(df_x, 2)  - f_x * ddf_x)\n",
    "    return x - delta\n",
    "\n",
    "def f_x(x):\n",
    "    return a[0] + a[1] * x + a[2] * tf.pow(x, 2) + a[3] * tf.pow(x, 3) + a[4] * tf.pow(x, 4)\n",
    "\n",
    "with tf.Session() as sess:\n",
    "    x = tf.Variable(10.0)\n",
    "    a = tf.constant([-2.0, 0, 1, 0, 0])\n",
    "    sess.run(tf.global_variables_initializer())\n",
    "    print(sess.run(x))\n",
    "    for i in range(20):\n",
    "        sess.run(x.assign(iter_x(x, a)))\n",
    "        print(sess.run([x, f_x(x)]))"
   ]
  }
 ],
 "metadata": {
  "kernelspec": {
   "display_name": "Python 3",
   "language": "python",
   "name": "python3"
  },
  "language_info": {
   "codemirror_mode": {
    "name": "ipython",
    "version": 3
   },
   "file_extension": ".py",
   "mimetype": "text/x-python",
   "name": "python",
   "nbconvert_exporter": "python",
   "pygments_lexer": "ipython3",
   "version": "3.6.5"
  }
 },
 "nbformat": 4,
 "nbformat_minor": 2
}
